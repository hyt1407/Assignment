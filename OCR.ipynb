{
 "cells": [
  {
   "cell_type": "markdown",
   "metadata": {},
   "source": [
    "## 文档扫描及处理及OCR识别"
   ]
  },
  {
   "cell_type": "code",
   "execution_count": 1,
   "metadata": {},
   "outputs": [],
   "source": [
    "import cv2\n",
    "import numpy as np"
   ]
  },
  {
   "cell_type": "code",
   "execution_count": 2,
   "metadata": {},
   "outputs": [],
   "source": [
    "def cv_show(img):\n",
    "    cv2.imshow('img',img)\n",
    "    cv2.waitKey(0)\n",
    "    cv2.destroyAllWindows()"
   ]
  },
  {
   "cell_type": "markdown",
   "metadata": {},
   "source": [
    "### 读取图像及图像预处理"
   ]
  },
  {
   "cell_type": "code",
   "execution_count": 3,
   "metadata": {},
   "outputs": [],
   "source": [
    "def resize(image,width = None,heieht = None,inter = cv2.INTER_AREA):\n",
    "    h,w = image.shape[0:2]\n",
    "    if width is None and heieht is None:\n",
    "        return image\n",
    "    if width is None:\n",
    "        r = heieht/h\n",
    "        #print(h,w,r,int(w*r),heieht)\n",
    "        return cv2.resize(image,(int(w*r),heieht),inter)\n",
    "    else:\n",
    "        r = width/w\n",
    "        return cv2.resize(image,(width,int(h*r)),inter)"
   ]
  },
  {
   "cell_type": "code",
   "execution_count": 4,
   "metadata": {},
   "outputs": [],
   "source": [
    "img = cv2.imread('./images/page.jpg')\n",
    "ratio = img.shape[0]/500.0 #用于后面坐标点的复原\n",
    "dupli = img.copy() #用于后面的复原\n",
    "img = resize(dupli,heieht=500)\n",
    "cv_show(img)"
   ]
  },
  {
   "cell_type": "code",
   "execution_count": 5,
   "metadata": {},
   "outputs": [],
   "source": [
    "gray = cv2.cvtColor(img,cv2.COLOR_BGR2GRAY)\n",
    "gray = cv2.GaussianBlur(gray,(5,5),0)\n",
    "edge = cv2.Canny(gray,75,200)\n",
    "show = np.hstack((gray,edge))\n",
    "cv_show(show)"
   ]
  },
  {
   "cell_type": "markdown",
   "metadata": {},
   "source": [
    "### 轮廓检测获取目标区域"
   ]
  },
  {
   "cell_type": "code",
   "execution_count": 6,
   "metadata": {},
   "outputs": [],
   "source": [
    "#获取轮廓\n",
    "cnts = cv2.findContours(edge.copy(),cv2.RETR_LIST,cv2.CHAIN_APPROX_SIMPLE)[1] #找出了318个轮廓\n",
    "#再以轮廓内的面积大小排序，取前五个\n",
    "cnts = sorted(cnts,key = cv2.contourArea,reverse=True)[:5]"
   ]
  },
  {
   "cell_type": "code",
   "execution_count": 7,
   "metadata": {},
   "outputs": [],
   "source": [
    "#获取轮廓的坐标点\n",
    "for i in cnts:\n",
    "    length = cv2.arcLength(i,True)\n",
    "    approx = cv2.approxPolyDP(i,0.02*length,True)\n",
    "    if len(approx) == 4:\n",
    "        break\n",
    "# a = cv2.approxPolyDP(cnts[4],28, True)"
   ]
  },
  {
   "cell_type": "code",
   "execution_count": 8,
   "metadata": {},
   "outputs": [],
   "source": [
    "#画出轮廓\n",
    "f = img.copy()\n",
    "cv2.drawContours(f,[approx],-1,(0,255,0),2)\n",
    "cv_show(f)"
   ]
  },
  {
   "cell_type": "markdown",
   "metadata": {},
   "source": [
    "### 以下进行目标区域的透视变换"
   ]
  },
  {
   "cell_type": "code",
   "execution_count": 9,
   "metadata": {},
   "outputs": [],
   "source": [
    "def order_point(pts):\n",
    "    #用于将轮廓坐标点排序，轮廓检测得到的坐标不一定按我们想要的顺序，故重排\n",
    "    #将四个坐标点排序，顺序为：左上，右上，右下，左下\n",
    "    rect = np.zeros_like(pts,dtype='float32')\n",
    "    \n",
    "    #先找出左上右下点，它们的x、y坐标相加，应该分别是最小和最大的\n",
    "    cor_sum = pts.sum(axis = 1)\n",
    "    rect[0] = pts[np.argmin(cor_sum)]\n",
    "    rect[2] = pts[np.argmax(cor_sum)]\n",
    "    \n",
    "    #再找右上左下点，它们的x、y的距离应该分别是最小和最大的（y-x）\n",
    "    cor_diff = np.diff(pts,1)\n",
    "    rect[1] = pts[np.argmin(cor_diff)]\n",
    "    rect[3] = pts[np.argmax(cor_diff)]\n",
    "    \n",
    "    return rect"
   ]
  },
  {
   "cell_type": "code",
   "execution_count": 10,
   "metadata": {},
   "outputs": [],
   "source": [
    "def img_transform(img,pts):\n",
    "    #这里只做图像的透视变换，故如果想要原图上的坐标变化需要传入原图及轮廓在原图上的坐标\n",
    "    rects = order_point(pts)\n",
    "    tl,tr,br,bl = rects\n",
    "    \n",
    "    #计算目标区域最宽和最高，因为我们希望转换后的图片是一个以这个宽高的矩形\n",
    "    widthA = np.sqrt(((br[0] - bl[0]) ** 2) + ((br[1] - bl[1]) ** 2))\n",
    "    widthB = np.sqrt(((tr[0] - tl[0]) ** 2) + ((tr[1] - tl[1]) ** 2))\n",
    "    width = int(max(widthA,widthB))\n",
    "    \n",
    "    heightA = np.sqrt(((tr[0] - br[0]) ** 2) + ((tr[1] - br[1]) ** 2))\n",
    "    heightB = np.sqrt(((tl[0] - bl[0]) ** 2) + ((tl[1] - bl[1]) ** 2))\n",
    "    height = int(max(heightA,heightB))\n",
    "    \n",
    "    dst = np.array([\n",
    "        [0,0],\n",
    "        [width-1,0],\n",
    "        [width-1,height-1],\n",
    "        [0,height-1]\n",
    "    ],dtype = 'float32')\n",
    "    #计算变换矩阵\n",
    "    M = cv2.getPerspectiveTransform(rects,dst)\n",
    "    warped = cv2.warpPerspective(img,M,(width,height))\n",
    "    \n",
    "    return warped"
   ]
  },
  {
   "cell_type": "code",
   "execution_count": 11,
   "metadata": {},
   "outputs": [
    {
     "data": {
      "text/plain": [
       "True"
      ]
     },
     "execution_count": 11,
     "metadata": {},
     "output_type": "execute_result"
    }
   ],
   "source": [
    "#透视变换\n",
    "warped = img_transform(dupli,approx.reshape(4,2)*ratio)\n",
    "cv_show(warped)\n",
    "#二值化处理\n",
    "warped = cv2.cvtColor(warped,cv2.COLOR_BGR2GRAY)\n",
    "cv_show(warped)\n",
    "ref = cv2.threshold(warped,135,255,cv2.THRESH_BINARY)[1]\n",
    "cv_show(ref)\n",
    "cv2.imwrite('scan.jpg', ref)"
   ]
  },
  {
   "cell_type": "markdown",
   "metadata": {},
   "source": [
    "### 以下进行OCR"
   ]
  },
  {
   "cell_type": "markdown",
   "metadata": {},
   "source": [
    "- 基本上OCR都是基于Tesseract-OCR软件搞的  \n",
    "- 软件下载地址：https://digi.bib.uni-mannheim.de/tesseract/  \n",
    "- 安装完成后在环境变量和系统变量中添加软件安装路径，同时新建TESSDATA_PREFIX系统变量，值为软件绝对路径  \n",
    "- pip install pytesseract 在python中使用该库调用  \n",
    "- 安装完成后将安装包中anaconda lib site-packges pytesseract pytesseract.py文件的tesseract软件相对地址改为绝对地址"
   ]
  },
  {
   "cell_type": "code",
   "execution_count": 12,
   "metadata": {},
   "outputs": [],
   "source": [
    "from PIL import Image\n",
    "import pytesseract\n",
    "import cv2\n",
    "import os"
   ]
  },
  {
   "cell_type": "code",
   "execution_count": 13,
   "metadata": {},
   "outputs": [],
   "source": [
    "preprocess = 'blur'"
   ]
  },
  {
   "cell_type": "code",
   "execution_count": 15,
   "metadata": {},
   "outputs": [],
   "source": [
    "image = ref\n",
    "#image = cv2.imread('scan.jpg')\n",
    "#gray = cv2.cvtColor(image,cv2.COLOR_BGR2GRAY)#就算是二值图片保存的时候还是会保存成3通道"
   ]
  },
  {
   "cell_type": "code",
   "execution_count": 21,
   "metadata": {},
   "outputs": [
    {
     "data": {
      "text/plain": [
       "True"
      ]
     },
     "execution_count": 21,
     "metadata": {},
     "output_type": "execute_result"
    }
   ],
   "source": [
    "if preprocess == \"thresh\":\n",
    "    gray = cv2.threshold(gray, 0, 255,cv2.THRESH_BINARY | cv2.THRESH_OTSU)[1]\n",
    "\n",
    "if preprocess == \"blur\":\n",
    "    gray = cv2.medianBlur(gray, 3)\n",
    "    \n",
    "filename = \"{}.png\".format(os.getpid())\n",
    "cv2.imwrite(filename, gray)"
   ]
  },
  {
   "cell_type": "code",
   "execution_count": 17,
   "metadata": {},
   "outputs": [
    {
     "name": "stdout",
     "output_type": "stream",
     "text": [
      "4.3 ACCESSING AND MANIPULATING PIXELS\n",
      "\n",
      "On Line 14 we manipulate the top-left pixel in the im-\n",
      "age, which is located at coordinate (0,0) and set it to have\n",
      "a value of (0, 0, 255). If we were reading this pixel value\n",
      "in RGB format, we would have a value of 0 for red, 0 for\n",
      "green, and 255 for blue, thus making it a pure blue color.\n",
      "\n",
      "However, as I mentioned above, we need to take special\n",
      "care when working with OpenCV. Our pixels are actually\n",
      "stored in BGR format, not RGB format.\n",
      "\n",
      "We actually read this pixel as 255 for red, 0 for green, and\n",
      "0 for blue, making it a red color, Hot a blue color.\n",
      "\n",
      "After setting the top-left pixel to have a red color on Line\n",
      "14, we then grab the pixel value and print it back to con-\n",
      "sole on Lines 15 and 16, just to demonstrate that we have\n",
      "indeed successfully changed the color of the pixel.\n",
      "\n",
      "Accessing and setting a single pixel value is simple enough,\n",
      "but what if we wanted to use NumPy's array slicing capa-\n",
      "bilities to access larger rectangular portions of the image?\n",
      "The code below demonstrates how we can do this:\n",
      "\n",
      " \n",
      "\n",
      "Listing 4.3: getting_and _setting.py\n",
      "\n",
      "17 corner = image{O:100, 0:100]\n",
      "18 cv2.imshow(\"Cornei\", corner)\n",
      "\n",
      "ro image[O:100, 0:100] = (0, 255, 0)\n",
      "\n",
      "2 cv2.imshow(\"Updaied\", image)\n",
      "23 cv2.waitKey (0)\n",
      "\n",
      "On line 17 we grab a 100 x 100 pixel region of the image.\n",
      "In fact, this is the top-left corner of the image! In order to\n",
      "grab chunks of an image, NumPy expects we provide four\n",
      "\n",
      "22\n"
     ]
    }
   ],
   "source": [
    "#text = pytesseract.image_to_string(Image.open(filename))\n",
    "text = pytesseract.image_to_string(image)\n",
    "print(text)\n",
    "#os.remove(filename)"
   ]
  },
  {
   "cell_type": "code",
   "execution_count": null,
   "metadata": {},
   "outputs": [],
   "source": []
  }
 ],
 "metadata": {
  "kernelspec": {
   "display_name": "Python 3",
   "language": "python",
   "name": "python3"
  },
  "language_info": {
   "codemirror_mode": {
    "name": "ipython",
    "version": 3
   },
   "file_extension": ".py",
   "mimetype": "text/x-python",
   "name": "python",
   "nbconvert_exporter": "python",
   "pygments_lexer": "ipython3",
   "version": "3.7.3"
  }
 },
 "nbformat": 4,
 "nbformat_minor": 2
}
