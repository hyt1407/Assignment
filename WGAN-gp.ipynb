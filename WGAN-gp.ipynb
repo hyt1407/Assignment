{
 "cells": [
  {
   "cell_type": "code",
   "execution_count": 1,
   "metadata": {},
   "outputs": [],
   "source": [
    "import  torch\n",
    "from    torch import nn, optim, autograd\n",
    "import  numpy as np\n",
    "import  visdom\n",
    "from    torch.nn import functional as F\n",
    "from    matplotlib import pyplot as plt\n",
    "import  random\n",
    "import torchvision.models as model\n",
    "import torchvision.datasets as datasets\n",
    "import torch.utils.data as data\n",
    "import torchvision.transforms as transforms"
   ]
  },
  {
   "cell_type": "code",
   "execution_count": 2,
   "metadata": {},
   "outputs": [],
   "source": [
    "import time"
   ]
  },
  {
   "cell_type": "code",
   "execution_count": 9,
   "metadata": {},
   "outputs": [
    {
     "name": "stderr",
     "output_type": "stream",
     "text": [
      "Setting up a new session...\n"
     ]
    },
    {
     "ename": "TypeError",
     "evalue": "images() got an unexpected keyword argument 'update'",
     "output_type": "error",
     "traceback": [
      "\u001b[1;31m---------------------------------------------------------------------------\u001b[0m",
      "\u001b[1;31mTypeError\u001b[0m                                 Traceback (most recent call last)",
      "\u001b[1;32m<ipython-input-9-f2d1535a7950>\u001b[0m in \u001b[0;36m<module>\u001b[1;34m\u001b[0m\n\u001b[0;32m      4\u001b[0m \u001b[1;32mwhile\u001b[0m \u001b[1;32mTrue\u001b[0m\u001b[1;33m:\u001b[0m\u001b[1;33m\u001b[0m\u001b[1;33m\u001b[0m\u001b[0m\n\u001b[0;32m      5\u001b[0m     viz.images(np.random.randn(16, 3, 64, 64),win='X',\n\u001b[1;32m----> 6\u001b[1;33m     opts=dict(title='fake image', caption='fake image'), update='append')\n\u001b[0m\u001b[0;32m      7\u001b[0m     \u001b[0mtime\u001b[0m\u001b[1;33m.\u001b[0m\u001b[0msleep\u001b[0m\u001b[1;33m(\u001b[0m\u001b[1;36m1\u001b[0m\u001b[1;33m)\u001b[0m\u001b[1;33m\u001b[0m\u001b[1;33m\u001b[0m\u001b[0m\n",
      "\u001b[1;32mc:\\visdom-master\\py\\visdom\\__init__.py\u001b[0m in \u001b[0;36mwrapped_f\u001b[1;34m(*args, **kwargs)\u001b[0m\n\u001b[0;32m    354\u001b[0m         \u001b[0margs\u001b[0m \u001b[1;33m=\u001b[0m \u001b[1;33m(\u001b[0m\u001b[0m_to_numpy\u001b[0m\u001b[1;33m(\u001b[0m\u001b[0marg\u001b[0m\u001b[1;33m)\u001b[0m \u001b[1;32mfor\u001b[0m \u001b[0marg\u001b[0m \u001b[1;32min\u001b[0m \u001b[0margs\u001b[0m\u001b[1;33m)\u001b[0m\u001b[1;33m\u001b[0m\u001b[1;33m\u001b[0m\u001b[0m\n\u001b[0;32m    355\u001b[0m         \u001b[0mkwargs\u001b[0m \u001b[1;33m=\u001b[0m \u001b[1;33m{\u001b[0m\u001b[0mk\u001b[0m\u001b[1;33m:\u001b[0m \u001b[0m_to_numpy\u001b[0m\u001b[1;33m(\u001b[0m\u001b[0mv\u001b[0m\u001b[1;33m)\u001b[0m \u001b[1;32mfor\u001b[0m \u001b[1;33m(\u001b[0m\u001b[0mk\u001b[0m\u001b[1;33m,\u001b[0m \u001b[0mv\u001b[0m\u001b[1;33m)\u001b[0m \u001b[1;32min\u001b[0m \u001b[0mkwargs\u001b[0m\u001b[1;33m.\u001b[0m\u001b[0mitems\u001b[0m\u001b[1;33m(\u001b[0m\u001b[1;33m)\u001b[0m\u001b[1;33m}\u001b[0m\u001b[1;33m\u001b[0m\u001b[1;33m\u001b[0m\u001b[0m\n\u001b[1;32m--> 356\u001b[1;33m         \u001b[1;32mreturn\u001b[0m \u001b[0mf\u001b[0m\u001b[1;33m(\u001b[0m\u001b[1;33m*\u001b[0m\u001b[0margs\u001b[0m\u001b[1;33m,\u001b[0m \u001b[1;33m**\u001b[0m\u001b[0mkwargs\u001b[0m\u001b[1;33m)\u001b[0m\u001b[1;33m\u001b[0m\u001b[1;33m\u001b[0m\u001b[0m\n\u001b[0m\u001b[0;32m    357\u001b[0m \u001b[1;33m\u001b[0m\u001b[0m\n\u001b[0;32m    358\u001b[0m     \u001b[1;32mreturn\u001b[0m \u001b[0mwrapped_f\u001b[0m\u001b[1;33m\u001b[0m\u001b[1;33m\u001b[0m\u001b[0m\n",
      "\u001b[1;31mTypeError\u001b[0m: images() got an unexpected keyword argument 'update'"
     ]
    }
   ],
   "source": [
    "viz=visdom.Visdom()\n",
    "viz.images(np.random.randn(16, 3, 64, 64),win='X',\n",
    "    opts=dict(title='fake image', caption='fake image'))\n",
    "while True:\n",
    "    viz.images(np.random.randn(16, 3, 64, 64),win='X',\n",
    "    opts=dict(title='fake image', caption='fake image'), update='append')\n",
    "    time.sleep(1)"
   ]
  },
  {
   "cell_type": "code",
   "execution_count": 2,
   "metadata": {},
   "outputs": [
    {
     "name": "stdout",
     "output_type": "stream",
     "text": [
      "Files already downloaded and verified\n"
     ]
    }
   ],
   "source": [
    "batch_size=16\n",
    "epochs = 1000\n",
    "real_data = datasets.CIFAR10('./realdata/',transform=transforms.ToTensor(),download=True)\n",
    "real_loader = data.DataLoader(real_data,batch_size=batch_size,shuffle=True)\n",
    "device = torch.device('cuda' if torch.cuda.is_available() else 'cpu')"
   ]
  },
  {
   "cell_type": "code",
   "execution_count": 3,
   "metadata": {},
   "outputs": [],
   "source": [
    "#网络的输入为[batch_size,100]----每个样本100维\n",
    "#网络的输出为[batch_size，3，32，32]----每个样本为3通道的32×32图片\n",
    "class Generator(nn.Module):\n",
    "    def __init__(self,dp=False):\n",
    "        super(Generator,self).__init__()\n",
    "        self.linear = nn.Linear(100,256)#32×32/4=256,先转成1/4大小单通道，再上采样\n",
    "        self.upsample=nn.Sequential(\n",
    "        nn.ConvTranspose2d(1,3,kernel_size=2,stride=2,bias=False),\n",
    "        nn.BatchNorm2d(3),\n",
    "        nn.ReLU(inplace=True),\n",
    "        #nn.Dropout(0.15,inplace=True)\n",
    "        )\n",
    "        self.conv1 = nn.Sequential(\n",
    "        nn.Conv2d(3,64,kernel_size=3,stride=1,padding=1,bias=False),\n",
    "        nn.BatchNorm2d(64),\n",
    "        nn.ReLU(inplace=True),\n",
    "        #nn.Dropout(0.15,inplace=True)\n",
    "        )\n",
    "        self.conv2 = nn.Sequential(\n",
    "        nn.Conv2d(64,128,kernel_size=1,stride=1,padding=0,bias=False),\n",
    "        nn.BatchNorm2d(128),\n",
    "        nn.ReLU(inplace=True),\n",
    "        #nn.Dropout(0.15,inplace=True)\n",
    "        )\n",
    "        self.conv3 = nn.Sequential(\n",
    "        nn.Conv2d(128,64,kernel_size=1,stride=1,padding=0,bias=False),\n",
    "        nn.BatchNorm2d(64),\n",
    "        nn.ReLU(inplace=True),\n",
    "        #nn.Dropout(0.15,inplace=True)\n",
    "        )\n",
    "        self.conv4 = nn.Sequential(\n",
    "        nn.Conv2d(64,3,kernel_size=3,stride=1,padding=1,bias=False),\n",
    "        nn.BatchNorm2d(3),\n",
    "        nn.ReLU(inplace=True)\n",
    "        )\n",
    "        \n",
    "    def forward(self,x):\n",
    "        x = F.relu(self.linear(x))\n",
    "        #print(x.shape)\n",
    "        x = x.view(x.size(0),1,16,16)\n",
    "        x = self.upsample(x)\n",
    "        x=self.conv4(self.conv3(self.conv2(self.conv1(x))))\n",
    "        return x"
   ]
  },
  {
   "cell_type": "code",
   "execution_count": 5,
   "metadata": {},
   "outputs": [],
   "source": [
    "#基于resnet18修改得到\n",
    "class Discriminator(nn.Module):\n",
    "    def __init__(self,model):\n",
    "        super(Discriminator,self).__init__()\n",
    "        self.res = nn.Sequential(*list(resnet18.children())[:-1])\n",
    "        self.fc = nn.Linear(512,1)\n",
    "        self.sig = nn.Sigmoid()\n",
    "    def forward(self,x):\n",
    "        x = self.res(x)\n",
    "        #print(x.size(),\"d\")\n",
    "        x = x.view(x.size(0),-1)\n",
    "        x = self.fc(x)\n",
    "        x = self.sig(x)\n",
    "        return x.view(-1)"
   ]
  },
  {
   "cell_type": "code",
   "execution_count": 47,
   "metadata": {},
   "outputs": [],
   "source": [
    "G = Generator().to(device)\n",
    "resnet18 = model.resnet18(pretrained=True)\n",
    "D = Discriminator(resnet18).to(device)\n",
    "optim_d = optim.Adam(D.parameters(),lr=0.001,betas=(0.5,0.9))\n",
    "optim_g = optim.Adam(G.parameters(),lr=0.001,betas=(0.5,0.9))"
   ]
  },
  {
   "cell_type": "code",
   "execution_count": 48,
   "metadata": {},
   "outputs": [],
   "source": [
    "def gradient_penalty(x_real,x_fake):\n",
    "    lambada = 0.3\n",
    "    x_real = x_real.detach()\n",
    "    x_fake = x_fake.detach()\n",
    "    alpha = torch.rand(batch_size,1,1,1).expand_as(x_real).to(device)\n",
    "    interpolates = alpha*x_real+(1-alpha)*x_fake\n",
    "    interpolates.requires_grad=True\n",
    "    D_interpolates = D(interpolates)\n",
    "    gradient = autograd.grad(outputs=D_interpolates,inputs=interpolates,\n",
    "                             grad_outputs=torch.ones_like(D_interpolates),\n",
    "                             create_graph=True,retain_graph=True,only_inputs=True)[0]\n",
    "    norm = []\n",
    "    for i in gradient:\n",
    "        norm.append(torch.norm(i))\n",
    "    norm = torch.tensor(norm).to(device)\n",
    "    return ((norm-1)**2).mean()*lambada"
   ]
  },
  {
   "cell_type": "code",
   "execution_count": 49,
   "metadata": {},
   "outputs": [],
   "source": [
    "def train_discriminator(x_real):\n",
    "    x_real = x_real.to(device)\n",
    "    #print(x_real.shape)\n",
    "    pred_real = D(x_real)\n",
    "    z = torch.rand(batch_size,100).to(device)\n",
    "    x_fake = G(z).detach()\n",
    "    pred_fake = D(x_fake)\n",
    "    #print(pred_real)\n",
    "    loss_real = -(pred_real.mean())\n",
    "    loss_fake = pred_fake.mean()\n",
    "    gp = gradient_penalty(x_real,x_fake)\n",
    "    #del x_real,x_fake\n",
    "    loss = loss_real+loss_fake+gp\n",
    "    optim_d.zero_grad()\n",
    "    loss.backward()\n",
    "    optim_d.step()\n",
    "    return loss"
   ]
  },
  {
   "cell_type": "code",
   "execution_count": 50,
   "metadata": {},
   "outputs": [],
   "source": [
    "def train_generator():\n",
    "    l = 0\n",
    "    nums = 0\n",
    "    for i in range(10):\n",
    "        z = torch.rand(batch_size,100).to(device)\n",
    "        x_fake = G(z)\n",
    "        #del z\n",
    "        pred_f = D(x_fake)\n",
    "        loss = -(pred_f.mean())\n",
    "        optim_g.zero_grad()\n",
    "        #print(pred_f)\n",
    "        #print(loss)\n",
    "        loss.backward()\n",
    "        optim_g.step()\n",
    "        #nums+=len(x_real)\n",
    "        l+=(loss*batch_size)\n",
    "    return l/10*batch_size,x_fake"
   ]
  },
  {
   "cell_type": "code",
   "execution_count": 89,
   "metadata": {},
   "outputs": [],
   "source": [
    "def main():\n",
    "    D.train()\n",
    "    G.train()\n",
    "    viz = visdom.Visdom()\n",
    "    viz.line([[0,0]], [0], win='loss', opts=dict(title='loss',legend=['D', 'G']))\n",
    "    viz.images(np.random.randn(batch_size, 3, 64, 64),\n",
    "    opts=dict(title='fake image', caption='fake image'))\n",
    "    for epoch in range(epochs):\n",
    "        torch.manual_seed(32)#设置一个随机数种子，设置后每次随机取值都会从同样的值开始迭代取值\n",
    "        for i,(x_real,_) in enumerate(real_loader):\n",
    "            loss_d,num = 0,0\n",
    "            num+=len(x_real)\n",
    "            loss_d += (train_discriminator(x_real).item())*len(x_real)\n",
    "            if (i+1)%10==0:\n",
    "                loss_g,img = train_generator()\n",
    "                print('epoch: %d,batch: %d,discriminator loss: %f,generator loss: %f'%(epoch,i+1,loss_d/num,loss_g))\n",
    "                #print(loss_d/num,loss_d/num)\n",
    "                #print(type(loss_d))\n",
    "                #print(type(loss_g))\n",
    "                viz.line([[loss_d/num,loss_g.item()]], [epoch*len(real_loader)//10+(i+1)//10], win='loss', update='append')\n",
    "                loss_d,num = 0,0"
   ]
  },
  {
   "cell_type": "code",
   "execution_count": 90,
   "metadata": {},
   "outputs": [
    {
     "name": "stderr",
     "output_type": "stream",
     "text": [
      "Setting up a new session...\n"
     ]
    },
    {
     "name": "stdout",
     "output_type": "stream",
     "text": [
      "epoch: 0,batch: 10,discriminator loss: 0.225868,generator loss: -26.615234\n",
      "epoch: 0,batch: 20,discriminator loss: 0.816112,generator loss: -28.149494\n",
      "epoch: 0,batch: 30,discriminator loss: 0.328266,generator loss: -25.621403\n",
      "epoch: 0,batch: 40,discriminator loss: -0.517473,generator loss: -25.615309\n",
      "epoch: 0,batch: 50,discriminator loss: 1.135155,generator loss: -34.984409\n",
      "epoch: 0,batch: 60,discriminator loss: -0.512183,generator loss: -33.452843\n",
      "epoch: 0,batch: 70,discriminator loss: -0.387489,generator loss: -32.088509\n",
      "epoch: 0,batch: 80,discriminator loss: -0.480134,generator loss: -25.656391\n",
      "epoch: 0,batch: 90,discriminator loss: -0.613337,generator loss: -26.898777\n",
      "epoch: 0,batch: 100,discriminator loss: -0.512195,generator loss: -26.274153\n",
      "epoch: 0,batch: 110,discriminator loss: -0.508509,generator loss: -21.867231\n",
      "epoch: 0,batch: 120,discriminator loss: 0.762613,generator loss: -22.861303\n",
      "epoch: 0,batch: 130,discriminator loss: 0.362146,generator loss: -36.459007\n",
      "epoch: 0,batch: 140,discriminator loss: 0.424970,generator loss: -34.189693\n",
      "epoch: 0,batch: 150,discriminator loss: 0.299031,generator loss: -22.396235\n",
      "epoch: 0,batch: 160,discriminator loss: 0.361631,generator loss: -19.171963\n",
      "epoch: 0,batch: 170,discriminator loss: 0.233381,generator loss: -19.892826\n",
      "epoch: 0,batch: 180,discriminator loss: -0.490189,generator loss: -22.076515\n",
      "epoch: 0,batch: 190,discriminator loss: 39.055244,generator loss: -25.566053\n",
      "epoch: 0,batch: 200,discriminator loss: -0.508375,generator loss: -19.898741\n",
      "epoch: 0,batch: 210,discriminator loss: -0.512048,generator loss: -19.265226\n",
      "epoch: 0,batch: 220,discriminator loss: -0.616626,generator loss: -21.634663\n",
      "epoch: 0,batch: 230,discriminator loss: -0.447528,generator loss: -16.049643\n",
      "epoch: 0,batch: 240,discriminator loss: -0.552531,generator loss: -117.593498\n",
      "epoch: 0,batch: 250,discriminator loss: -0.573068,generator loss: -17.860235\n",
      "epoch: 0,batch: 260,discriminator loss: -0.477862,generator loss: -28.855885\n",
      "epoch: 0,batch: 270,discriminator loss: -0.618785,generator loss: -16.023273\n",
      "epoch: 0,batch: 280,discriminator loss: -0.583038,generator loss: -16.026470\n",
      "epoch: 0,batch: 290,discriminator loss: -0.512080,generator loss: -49.353996\n",
      "epoch: 0,batch: 300,discriminator loss: -0.158416,generator loss: -17.620588\n",
      "epoch: 0,batch: 310,discriminator loss: 0.285462,generator loss: -16.008106\n",
      "epoch: 0,batch: 320,discriminator loss: 0.282683,generator loss: -17.533445\n",
      "epoch: 0,batch: 330,discriminator loss: 0.292157,generator loss: -19.214180\n",
      "epoch: 0,batch: 340,discriminator loss: 0.390288,generator loss: -16.287344\n",
      "epoch: 0,batch: 350,discriminator loss: 0.299996,generator loss: -16.090086\n",
      "epoch: 0,batch: 360,discriminator loss: 0.300004,generator loss: -16.040203\n",
      "epoch: 0,batch: 370,discriminator loss: 0.244789,generator loss: -17.630957\n",
      "epoch: 0,batch: 380,discriminator loss: 0.299993,generator loss: -19.218351\n",
      "epoch: 0,batch: 390,discriminator loss: 0.299989,generator loss: -16.024626\n",
      "epoch: 0,batch: 400,discriminator loss: 0.299984,generator loss: -17.520998\n",
      "epoch: 0,batch: 410,discriminator loss: 0.300013,generator loss: -16.021193\n",
      "epoch: 0,batch: 420,discriminator loss: 0.299984,generator loss: -16.029800\n",
      "epoch: 0,batch: 430,discriminator loss: 0.299978,generator loss: -16.028759\n",
      "epoch: 0,batch: 440,discriminator loss: 0.299989,generator loss: -16.066324\n",
      "epoch: 0,batch: 450,discriminator loss: 0.299414,generator loss: -16.029972\n",
      "epoch: 0,batch: 460,discriminator loss: 0.296526,generator loss: -16.036808\n",
      "epoch: 0,batch: 470,discriminator loss: 0.299992,generator loss: -16.060743\n",
      "epoch: 0,batch: 480,discriminator loss: 0.299818,generator loss: -17.658966\n",
      "epoch: 0,batch: 490,discriminator loss: 0.298472,generator loss: -16.067987\n",
      "epoch: 0,batch: 500,discriminator loss: 0.299971,generator loss: -17.681463\n",
      "epoch: 0,batch: 510,discriminator loss: 0.299926,generator loss: -16.102325\n",
      "epoch: 0,batch: 520,discriminator loss: 0.299834,generator loss: -16.100885\n",
      "epoch: 0,batch: 530,discriminator loss: 0.299348,generator loss: -16.270138\n",
      "epoch: 0,batch: 540,discriminator loss: 0.299519,generator loss: -16.490343\n",
      "epoch: 0,batch: 550,discriminator loss: 0.301579,generator loss: -16.401907\n",
      "epoch: 0,batch: 560,discriminator loss: 0.298608,generator loss: -16.394022\n",
      "epoch: 0,batch: 570,discriminator loss: 0.284103,generator loss: -17.936850\n",
      "epoch: 0,batch: 580,discriminator loss: 0.396691,generator loss: -58.115528\n",
      "epoch: 0,batch: 590,discriminator loss: -0.381599,generator loss: -59.142036\n",
      "epoch: 0,batch: 600,discriminator loss: -0.251623,generator loss: -79.819954\n",
      "epoch: 0,batch: 610,discriminator loss: 121.362877,generator loss: -138.347626\n",
      "epoch: 0,batch: 620,discriminator loss: -0.265483,generator loss: -93.066879\n",
      "epoch: 0,batch: 630,discriminator loss: -0.550025,generator loss: -43.520824\n",
      "epoch: 0,batch: 640,discriminator loss: -0.469711,generator loss: -34.470249\n",
      "epoch: 0,batch: 650,discriminator loss: -0.008532,generator loss: -152.466263\n",
      "epoch: 0,batch: 660,discriminator loss: -0.311801,generator loss: -66.902077\n",
      "epoch: 0,batch: 670,discriminator loss: -0.426450,generator loss: -16.511095\n",
      "epoch: 0,batch: 680,discriminator loss: -0.449683,generator loss: -17.343086\n",
      "epoch: 0,batch: 690,discriminator loss: -0.725728,generator loss: -17.164415\n",
      "epoch: 0,batch: 700,discriminator loss: 10.403647,generator loss: -17.940218\n",
      "epoch: 0,batch: 710,discriminator loss: -0.614738,generator loss: -49.805447\n",
      "epoch: 0,batch: 720,discriminator loss: -0.509940,generator loss: -16.090590\n",
      "epoch: 0,batch: 730,discriminator loss: -0.352257,generator loss: -17.686199\n",
      "epoch: 0,batch: 740,discriminator loss: 20.982920,generator loss: -17.699146\n",
      "epoch: 0,batch: 750,discriminator loss: 0.030360,generator loss: -20.864275\n",
      "epoch: 0,batch: 760,discriminator loss: 7.993674,generator loss: -16.456114\n",
      "epoch: 0,batch: 770,discriminator loss: 7.284557,generator loss: -86.230530\n",
      "epoch: 0,batch: 780,discriminator loss: 0.274456,generator loss: -212.888626\n",
      "epoch: 0,batch: 790,discriminator loss: -0.144711,generator loss: -17.759022\n",
      "epoch: 0,batch: 800,discriminator loss: -0.573667,generator loss: -16.311842\n",
      "epoch: 0,batch: 810,discriminator loss: -0.450623,generator loss: -16.067968\n",
      "epoch: 0,batch: 820,discriminator loss: -0.574645,generator loss: -16.033331\n",
      "epoch: 0,batch: 830,discriminator loss: -0.512705,generator loss: -16.055792\n",
      "epoch: 0,batch: 840,discriminator loss: 7.034603,generator loss: -16.233841\n",
      "epoch: 0,batch: 850,discriminator loss: 6.955331,generator loss: -16.075748\n",
      "epoch: 0,batch: 860,discriminator loss: -0.573768,generator loss: -18.908777\n",
      "epoch: 0,batch: 870,discriminator loss: -0.574900,generator loss: -16.052469\n",
      "epoch: 0,batch: 880,discriminator loss: -0.582073,generator loss: -28.822897\n",
      "epoch: 0,batch: 890,discriminator loss: -0.607223,generator loss: -17.657114\n",
      "epoch: 0,batch: 900,discriminator loss: -0.450802,generator loss: -16.031118\n",
      "epoch: 0,batch: 910,discriminator loss: 2.683315,generator loss: -19.211554\n",
      "epoch: 0,batch: 920,discriminator loss: -0.535789,generator loss: -16.043716\n"
     ]
    },
    {
     "ename": "KeyboardInterrupt",
     "evalue": "",
     "output_type": "error",
     "traceback": [
      "\u001b[1;31m---------------------------------------------------------------------------\u001b[0m",
      "\u001b[1;31mKeyboardInterrupt\u001b[0m                         Traceback (most recent call last)",
      "\u001b[1;32m<ipython-input-90-263240bbee7e>\u001b[0m in \u001b[0;36m<module>\u001b[1;34m\u001b[0m\n\u001b[1;32m----> 1\u001b[1;33m \u001b[0mmain\u001b[0m\u001b[1;33m(\u001b[0m\u001b[1;33m)\u001b[0m\u001b[1;33m\u001b[0m\u001b[1;33m\u001b[0m\u001b[0m\n\u001b[0m",
      "\u001b[1;32m<ipython-input-89-5c471fcb3293>\u001b[0m in \u001b[0;36mmain\u001b[1;34m()\u001b[0m\n\u001b[0;32m      9\u001b[0m             \u001b[0mloss_d\u001b[0m\u001b[1;33m,\u001b[0m\u001b[0mnum\u001b[0m \u001b[1;33m=\u001b[0m \u001b[1;36m0\u001b[0m\u001b[1;33m,\u001b[0m\u001b[1;36m0\u001b[0m\u001b[1;33m\u001b[0m\u001b[1;33m\u001b[0m\u001b[0m\n\u001b[0;32m     10\u001b[0m             \u001b[0mnum\u001b[0m\u001b[1;33m+=\u001b[0m\u001b[0mlen\u001b[0m\u001b[1;33m(\u001b[0m\u001b[0mx_real\u001b[0m\u001b[1;33m)\u001b[0m\u001b[1;33m\u001b[0m\u001b[1;33m\u001b[0m\u001b[0m\n\u001b[1;32m---> 11\u001b[1;33m             \u001b[0mloss_d\u001b[0m \u001b[1;33m+=\u001b[0m \u001b[1;33m(\u001b[0m\u001b[0mtrain_discriminator\u001b[0m\u001b[1;33m(\u001b[0m\u001b[0mx_real\u001b[0m\u001b[1;33m)\u001b[0m\u001b[1;33m.\u001b[0m\u001b[0mitem\u001b[0m\u001b[1;33m(\u001b[0m\u001b[1;33m)\u001b[0m\u001b[1;33m)\u001b[0m\u001b[1;33m*\u001b[0m\u001b[0mlen\u001b[0m\u001b[1;33m(\u001b[0m\u001b[0mx_real\u001b[0m\u001b[1;33m)\u001b[0m\u001b[1;33m\u001b[0m\u001b[1;33m\u001b[0m\u001b[0m\n\u001b[0m\u001b[0;32m     12\u001b[0m             \u001b[1;32mif\u001b[0m \u001b[1;33m(\u001b[0m\u001b[0mi\u001b[0m\u001b[1;33m+\u001b[0m\u001b[1;36m1\u001b[0m\u001b[1;33m)\u001b[0m\u001b[1;33m%\u001b[0m\u001b[1;36m10\u001b[0m\u001b[1;33m==\u001b[0m\u001b[1;36m0\u001b[0m\u001b[1;33m:\u001b[0m\u001b[1;33m\u001b[0m\u001b[1;33m\u001b[0m\u001b[0m\n\u001b[0;32m     13\u001b[0m                 \u001b[0mloss_g\u001b[0m \u001b[1;33m=\u001b[0m \u001b[0mtrain_generator\u001b[0m\u001b[1;33m(\u001b[0m\u001b[1;33m)\u001b[0m\u001b[1;33m\u001b[0m\u001b[1;33m\u001b[0m\u001b[0m\n",
      "\u001b[1;32m<ipython-input-49-2299838ba1de>\u001b[0m in \u001b[0;36mtrain_discriminator\u001b[1;34m(x_real)\u001b[0m\n\u001b[0;32m      5\u001b[0m     \u001b[0mz\u001b[0m \u001b[1;33m=\u001b[0m \u001b[0mtorch\u001b[0m\u001b[1;33m.\u001b[0m\u001b[0mrand\u001b[0m\u001b[1;33m(\u001b[0m\u001b[0mbatch_size\u001b[0m\u001b[1;33m,\u001b[0m\u001b[1;36m100\u001b[0m\u001b[1;33m)\u001b[0m\u001b[1;33m.\u001b[0m\u001b[0mto\u001b[0m\u001b[1;33m(\u001b[0m\u001b[0mdevice\u001b[0m\u001b[1;33m)\u001b[0m\u001b[1;33m\u001b[0m\u001b[1;33m\u001b[0m\u001b[0m\n\u001b[0;32m      6\u001b[0m     \u001b[0mx_fake\u001b[0m \u001b[1;33m=\u001b[0m \u001b[0mG\u001b[0m\u001b[1;33m(\u001b[0m\u001b[0mz\u001b[0m\u001b[1;33m)\u001b[0m\u001b[1;33m.\u001b[0m\u001b[0mdetach\u001b[0m\u001b[1;33m(\u001b[0m\u001b[1;33m)\u001b[0m\u001b[1;33m\u001b[0m\u001b[1;33m\u001b[0m\u001b[0m\n\u001b[1;32m----> 7\u001b[1;33m     \u001b[0mpred_fake\u001b[0m \u001b[1;33m=\u001b[0m \u001b[0mD\u001b[0m\u001b[1;33m(\u001b[0m\u001b[0mx_fake\u001b[0m\u001b[1;33m)\u001b[0m\u001b[1;33m\u001b[0m\u001b[1;33m\u001b[0m\u001b[0m\n\u001b[0m\u001b[0;32m      8\u001b[0m     \u001b[1;31m#print(pred_real)\u001b[0m\u001b[1;33m\u001b[0m\u001b[1;33m\u001b[0m\u001b[1;33m\u001b[0m\u001b[0m\n\u001b[0;32m      9\u001b[0m     \u001b[0mloss_real\u001b[0m \u001b[1;33m=\u001b[0m \u001b[1;33m-\u001b[0m\u001b[1;33m(\u001b[0m\u001b[0mpred_real\u001b[0m\u001b[1;33m.\u001b[0m\u001b[0mmean\u001b[0m\u001b[1;33m(\u001b[0m\u001b[1;33m)\u001b[0m\u001b[1;33m)\u001b[0m\u001b[1;33m\u001b[0m\u001b[1;33m\u001b[0m\u001b[0m\n",
      "\u001b[1;32mC:\\ProgramData\\Anaconda3\\lib\\site-packages\\torch\\nn\\modules\\module.py\u001b[0m in \u001b[0;36m__call__\u001b[1;34m(self, *input, **kwargs)\u001b[0m\n\u001b[0;32m    487\u001b[0m             \u001b[0mresult\u001b[0m \u001b[1;33m=\u001b[0m \u001b[0mself\u001b[0m\u001b[1;33m.\u001b[0m\u001b[0m_slow_forward\u001b[0m\u001b[1;33m(\u001b[0m\u001b[1;33m*\u001b[0m\u001b[0minput\u001b[0m\u001b[1;33m,\u001b[0m \u001b[1;33m**\u001b[0m\u001b[0mkwargs\u001b[0m\u001b[1;33m)\u001b[0m\u001b[1;33m\u001b[0m\u001b[1;33m\u001b[0m\u001b[0m\n\u001b[0;32m    488\u001b[0m         \u001b[1;32melse\u001b[0m\u001b[1;33m:\u001b[0m\u001b[1;33m\u001b[0m\u001b[1;33m\u001b[0m\u001b[0m\n\u001b[1;32m--> 489\u001b[1;33m             \u001b[0mresult\u001b[0m \u001b[1;33m=\u001b[0m \u001b[0mself\u001b[0m\u001b[1;33m.\u001b[0m\u001b[0mforward\u001b[0m\u001b[1;33m(\u001b[0m\u001b[1;33m*\u001b[0m\u001b[0minput\u001b[0m\u001b[1;33m,\u001b[0m \u001b[1;33m**\u001b[0m\u001b[0mkwargs\u001b[0m\u001b[1;33m)\u001b[0m\u001b[1;33m\u001b[0m\u001b[1;33m\u001b[0m\u001b[0m\n\u001b[0m\u001b[0;32m    490\u001b[0m         \u001b[1;32mfor\u001b[0m \u001b[0mhook\u001b[0m \u001b[1;32min\u001b[0m \u001b[0mself\u001b[0m\u001b[1;33m.\u001b[0m\u001b[0m_forward_hooks\u001b[0m\u001b[1;33m.\u001b[0m\u001b[0mvalues\u001b[0m\u001b[1;33m(\u001b[0m\u001b[1;33m)\u001b[0m\u001b[1;33m:\u001b[0m\u001b[1;33m\u001b[0m\u001b[1;33m\u001b[0m\u001b[0m\n\u001b[0;32m    491\u001b[0m             \u001b[0mhook_result\u001b[0m \u001b[1;33m=\u001b[0m \u001b[0mhook\u001b[0m\u001b[1;33m(\u001b[0m\u001b[0mself\u001b[0m\u001b[1;33m,\u001b[0m \u001b[0minput\u001b[0m\u001b[1;33m,\u001b[0m \u001b[0mresult\u001b[0m\u001b[1;33m)\u001b[0m\u001b[1;33m\u001b[0m\u001b[1;33m\u001b[0m\u001b[0m\n",
      "\u001b[1;32m<ipython-input-46-056ff57aa949>\u001b[0m in \u001b[0;36mforward\u001b[1;34m(self, x)\u001b[0m\n\u001b[0;32m      7\u001b[0m         \u001b[0mself\u001b[0m\u001b[1;33m.\u001b[0m\u001b[0msig\u001b[0m \u001b[1;33m=\u001b[0m \u001b[0mnn\u001b[0m\u001b[1;33m.\u001b[0m\u001b[0mSigmoid\u001b[0m\u001b[1;33m(\u001b[0m\u001b[1;33m)\u001b[0m\u001b[1;33m\u001b[0m\u001b[1;33m\u001b[0m\u001b[0m\n\u001b[0;32m      8\u001b[0m     \u001b[1;32mdef\u001b[0m \u001b[0mforward\u001b[0m\u001b[1;33m(\u001b[0m\u001b[0mself\u001b[0m\u001b[1;33m,\u001b[0m\u001b[0mx\u001b[0m\u001b[1;33m)\u001b[0m\u001b[1;33m:\u001b[0m\u001b[1;33m\u001b[0m\u001b[1;33m\u001b[0m\u001b[0m\n\u001b[1;32m----> 9\u001b[1;33m         \u001b[0mx\u001b[0m \u001b[1;33m=\u001b[0m \u001b[0mself\u001b[0m\u001b[1;33m.\u001b[0m\u001b[0mres\u001b[0m\u001b[1;33m(\u001b[0m\u001b[0mx\u001b[0m\u001b[1;33m)\u001b[0m\u001b[1;33m\u001b[0m\u001b[1;33m\u001b[0m\u001b[0m\n\u001b[0m\u001b[0;32m     10\u001b[0m         \u001b[1;31m#print(x.size(),\"d\")\u001b[0m\u001b[1;33m\u001b[0m\u001b[1;33m\u001b[0m\u001b[1;33m\u001b[0m\u001b[0m\n\u001b[0;32m     11\u001b[0m         \u001b[0mx\u001b[0m \u001b[1;33m=\u001b[0m \u001b[0mx\u001b[0m\u001b[1;33m.\u001b[0m\u001b[0mview\u001b[0m\u001b[1;33m(\u001b[0m\u001b[0mx\u001b[0m\u001b[1;33m.\u001b[0m\u001b[0msize\u001b[0m\u001b[1;33m(\u001b[0m\u001b[1;36m0\u001b[0m\u001b[1;33m)\u001b[0m\u001b[1;33m,\u001b[0m\u001b[1;33m-\u001b[0m\u001b[1;36m1\u001b[0m\u001b[1;33m)\u001b[0m\u001b[1;33m\u001b[0m\u001b[1;33m\u001b[0m\u001b[0m\n",
      "\u001b[1;32mC:\\ProgramData\\Anaconda3\\lib\\site-packages\\torch\\nn\\modules\\module.py\u001b[0m in \u001b[0;36m__call__\u001b[1;34m(self, *input, **kwargs)\u001b[0m\n\u001b[0;32m    487\u001b[0m             \u001b[0mresult\u001b[0m \u001b[1;33m=\u001b[0m \u001b[0mself\u001b[0m\u001b[1;33m.\u001b[0m\u001b[0m_slow_forward\u001b[0m\u001b[1;33m(\u001b[0m\u001b[1;33m*\u001b[0m\u001b[0minput\u001b[0m\u001b[1;33m,\u001b[0m \u001b[1;33m**\u001b[0m\u001b[0mkwargs\u001b[0m\u001b[1;33m)\u001b[0m\u001b[1;33m\u001b[0m\u001b[1;33m\u001b[0m\u001b[0m\n\u001b[0;32m    488\u001b[0m         \u001b[1;32melse\u001b[0m\u001b[1;33m:\u001b[0m\u001b[1;33m\u001b[0m\u001b[1;33m\u001b[0m\u001b[0m\n\u001b[1;32m--> 489\u001b[1;33m             \u001b[0mresult\u001b[0m \u001b[1;33m=\u001b[0m \u001b[0mself\u001b[0m\u001b[1;33m.\u001b[0m\u001b[0mforward\u001b[0m\u001b[1;33m(\u001b[0m\u001b[1;33m*\u001b[0m\u001b[0minput\u001b[0m\u001b[1;33m,\u001b[0m \u001b[1;33m**\u001b[0m\u001b[0mkwargs\u001b[0m\u001b[1;33m)\u001b[0m\u001b[1;33m\u001b[0m\u001b[1;33m\u001b[0m\u001b[0m\n\u001b[0m\u001b[0;32m    490\u001b[0m         \u001b[1;32mfor\u001b[0m \u001b[0mhook\u001b[0m \u001b[1;32min\u001b[0m \u001b[0mself\u001b[0m\u001b[1;33m.\u001b[0m\u001b[0m_forward_hooks\u001b[0m\u001b[1;33m.\u001b[0m\u001b[0mvalues\u001b[0m\u001b[1;33m(\u001b[0m\u001b[1;33m)\u001b[0m\u001b[1;33m:\u001b[0m\u001b[1;33m\u001b[0m\u001b[1;33m\u001b[0m\u001b[0m\n\u001b[0;32m    491\u001b[0m             \u001b[0mhook_result\u001b[0m \u001b[1;33m=\u001b[0m \u001b[0mhook\u001b[0m\u001b[1;33m(\u001b[0m\u001b[0mself\u001b[0m\u001b[1;33m,\u001b[0m \u001b[0minput\u001b[0m\u001b[1;33m,\u001b[0m \u001b[0mresult\u001b[0m\u001b[1;33m)\u001b[0m\u001b[1;33m\u001b[0m\u001b[1;33m\u001b[0m\u001b[0m\n",
      "\u001b[1;32mC:\\ProgramData\\Anaconda3\\lib\\site-packages\\torch\\nn\\modules\\container.py\u001b[0m in \u001b[0;36mforward\u001b[1;34m(self, input)\u001b[0m\n\u001b[0;32m     90\u001b[0m     \u001b[1;32mdef\u001b[0m \u001b[0mforward\u001b[0m\u001b[1;33m(\u001b[0m\u001b[0mself\u001b[0m\u001b[1;33m,\u001b[0m \u001b[0minput\u001b[0m\u001b[1;33m)\u001b[0m\u001b[1;33m:\u001b[0m\u001b[1;33m\u001b[0m\u001b[1;33m\u001b[0m\u001b[0m\n\u001b[0;32m     91\u001b[0m         \u001b[1;32mfor\u001b[0m \u001b[0mmodule\u001b[0m \u001b[1;32min\u001b[0m \u001b[0mself\u001b[0m\u001b[1;33m.\u001b[0m\u001b[0m_modules\u001b[0m\u001b[1;33m.\u001b[0m\u001b[0mvalues\u001b[0m\u001b[1;33m(\u001b[0m\u001b[1;33m)\u001b[0m\u001b[1;33m:\u001b[0m\u001b[1;33m\u001b[0m\u001b[1;33m\u001b[0m\u001b[0m\n\u001b[1;32m---> 92\u001b[1;33m             \u001b[0minput\u001b[0m \u001b[1;33m=\u001b[0m \u001b[0mmodule\u001b[0m\u001b[1;33m(\u001b[0m\u001b[0minput\u001b[0m\u001b[1;33m)\u001b[0m\u001b[1;33m\u001b[0m\u001b[1;33m\u001b[0m\u001b[0m\n\u001b[0m\u001b[0;32m     93\u001b[0m         \u001b[1;32mreturn\u001b[0m \u001b[0minput\u001b[0m\u001b[1;33m\u001b[0m\u001b[1;33m\u001b[0m\u001b[0m\n\u001b[0;32m     94\u001b[0m \u001b[1;33m\u001b[0m\u001b[0m\n",
      "\u001b[1;32mC:\\ProgramData\\Anaconda3\\lib\\site-packages\\torch\\nn\\modules\\module.py\u001b[0m in \u001b[0;36m__call__\u001b[1;34m(self, *input, **kwargs)\u001b[0m\n\u001b[0;32m    487\u001b[0m             \u001b[0mresult\u001b[0m \u001b[1;33m=\u001b[0m \u001b[0mself\u001b[0m\u001b[1;33m.\u001b[0m\u001b[0m_slow_forward\u001b[0m\u001b[1;33m(\u001b[0m\u001b[1;33m*\u001b[0m\u001b[0minput\u001b[0m\u001b[1;33m,\u001b[0m \u001b[1;33m**\u001b[0m\u001b[0mkwargs\u001b[0m\u001b[1;33m)\u001b[0m\u001b[1;33m\u001b[0m\u001b[1;33m\u001b[0m\u001b[0m\n\u001b[0;32m    488\u001b[0m         \u001b[1;32melse\u001b[0m\u001b[1;33m:\u001b[0m\u001b[1;33m\u001b[0m\u001b[1;33m\u001b[0m\u001b[0m\n\u001b[1;32m--> 489\u001b[1;33m             \u001b[0mresult\u001b[0m \u001b[1;33m=\u001b[0m \u001b[0mself\u001b[0m\u001b[1;33m.\u001b[0m\u001b[0mforward\u001b[0m\u001b[1;33m(\u001b[0m\u001b[1;33m*\u001b[0m\u001b[0minput\u001b[0m\u001b[1;33m,\u001b[0m \u001b[1;33m**\u001b[0m\u001b[0mkwargs\u001b[0m\u001b[1;33m)\u001b[0m\u001b[1;33m\u001b[0m\u001b[1;33m\u001b[0m\u001b[0m\n\u001b[0m\u001b[0;32m    490\u001b[0m         \u001b[1;32mfor\u001b[0m \u001b[0mhook\u001b[0m \u001b[1;32min\u001b[0m \u001b[0mself\u001b[0m\u001b[1;33m.\u001b[0m\u001b[0m_forward_hooks\u001b[0m\u001b[1;33m.\u001b[0m\u001b[0mvalues\u001b[0m\u001b[1;33m(\u001b[0m\u001b[1;33m)\u001b[0m\u001b[1;33m:\u001b[0m\u001b[1;33m\u001b[0m\u001b[1;33m\u001b[0m\u001b[0m\n\u001b[0;32m    491\u001b[0m             \u001b[0mhook_result\u001b[0m \u001b[1;33m=\u001b[0m \u001b[0mhook\u001b[0m\u001b[1;33m(\u001b[0m\u001b[0mself\u001b[0m\u001b[1;33m,\u001b[0m \u001b[0minput\u001b[0m\u001b[1;33m,\u001b[0m \u001b[0mresult\u001b[0m\u001b[1;33m)\u001b[0m\u001b[1;33m\u001b[0m\u001b[1;33m\u001b[0m\u001b[0m\n",
      "\u001b[1;32mC:\\ProgramData\\Anaconda3\\lib\\site-packages\\torch\\nn\\modules\\pooling.py\u001b[0m in \u001b[0;36mforward\u001b[1;34m(self, input)\u001b[0m\n\u001b[0;32m   1000\u001b[0m     \u001b[1;33m@\u001b[0m\u001b[0mweak_script_method\u001b[0m\u001b[1;33m\u001b[0m\u001b[1;33m\u001b[0m\u001b[0m\n\u001b[0;32m   1001\u001b[0m     \u001b[1;32mdef\u001b[0m \u001b[0mforward\u001b[0m\u001b[1;33m(\u001b[0m\u001b[0mself\u001b[0m\u001b[1;33m,\u001b[0m \u001b[0minput\u001b[0m\u001b[1;33m)\u001b[0m\u001b[1;33m:\u001b[0m\u001b[1;33m\u001b[0m\u001b[1;33m\u001b[0m\u001b[0m\n\u001b[1;32m-> 1002\u001b[1;33m         \u001b[1;32mreturn\u001b[0m \u001b[0mF\u001b[0m\u001b[1;33m.\u001b[0m\u001b[0madaptive_avg_pool2d\u001b[0m\u001b[1;33m(\u001b[0m\u001b[0minput\u001b[0m\u001b[1;33m,\u001b[0m \u001b[0mself\u001b[0m\u001b[1;33m.\u001b[0m\u001b[0moutput_size\u001b[0m\u001b[1;33m)\u001b[0m\u001b[1;33m\u001b[0m\u001b[1;33m\u001b[0m\u001b[0m\n\u001b[0m\u001b[0;32m   1003\u001b[0m \u001b[1;33m\u001b[0m\u001b[0m\n\u001b[0;32m   1004\u001b[0m \u001b[1;33m\u001b[0m\u001b[0m\n",
      "\u001b[1;32mC:\\ProgramData\\Anaconda3\\lib\\site-packages\\torch\\nn\\functional.py\u001b[0m in \u001b[0;36madaptive_avg_pool2d\u001b[1;34m(input, output_size)\u001b[0m\n\u001b[0;32m    706\u001b[0m     \"\"\"\n\u001b[0;32m    707\u001b[0m     \u001b[0m_output_size\u001b[0m \u001b[1;33m=\u001b[0m \u001b[0m_list_with_default\u001b[0m\u001b[1;33m(\u001b[0m\u001b[0moutput_size\u001b[0m\u001b[1;33m,\u001b[0m \u001b[0minput\u001b[0m\u001b[1;33m.\u001b[0m\u001b[0msize\u001b[0m\u001b[1;33m(\u001b[0m\u001b[1;33m)\u001b[0m\u001b[1;33m)\u001b[0m\u001b[1;33m\u001b[0m\u001b[1;33m\u001b[0m\u001b[0m\n\u001b[1;32m--> 708\u001b[1;33m     \u001b[1;32mreturn\u001b[0m \u001b[0mtorch\u001b[0m\u001b[1;33m.\u001b[0m\u001b[0m_C\u001b[0m\u001b[1;33m.\u001b[0m\u001b[0m_nn\u001b[0m\u001b[1;33m.\u001b[0m\u001b[0madaptive_avg_pool2d\u001b[0m\u001b[1;33m(\u001b[0m\u001b[0minput\u001b[0m\u001b[1;33m,\u001b[0m \u001b[0m_output_size\u001b[0m\u001b[1;33m)\u001b[0m\u001b[1;33m\u001b[0m\u001b[1;33m\u001b[0m\u001b[0m\n\u001b[0m\u001b[0;32m    709\u001b[0m \u001b[1;33m\u001b[0m\u001b[0m\n\u001b[0;32m    710\u001b[0m \u001b[1;33m\u001b[0m\u001b[0m\n",
      "\u001b[1;31mKeyboardInterrupt\u001b[0m: "
     ]
    }
   ],
   "source": [
    "main()"
   ]
  },
  {
   "cell_type": "code",
   "execution_count": null,
   "metadata": {},
   "outputs": [],
   "source": []
  }
 ],
 "metadata": {
  "kernelspec": {
   "display_name": "Python 3",
   "language": "python",
   "name": "python3"
  },
  "language_info": {
   "codemirror_mode": {
    "name": "ipython",
    "version": 3
   },
   "file_extension": ".py",
   "mimetype": "text/x-python",
   "name": "python",
   "nbconvert_exporter": "python",
   "pygments_lexer": "ipython3",
   "version": "3.7.3"
  }
 },
 "nbformat": 4,
 "nbformat_minor": 2
}
